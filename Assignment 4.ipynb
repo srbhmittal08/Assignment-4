{
 "cells": [
  {
   "cell_type": "markdown",
   "id": "1847ae31-e22c-4df8-aa88-1684a239b052",
   "metadata": {},
   "source": [
    "Answer 1"
   ]
  },
  {
   "cell_type": "code",
   "execution_count": 11,
   "id": "a632e99b-082d-425b-be09-7ecc17ee7bdb",
   "metadata": {},
   "outputs": [],
   "source": [
    "l2 = [('Sachin Tendulkar', 34357), ('Ricky Ponting', 27483), ('Jack Kallis', 25534), ('Virat Kohli', 24936)]"
   ]
  },
  {
   "cell_type": "code",
   "execution_count": 19,
   "id": "b4427b05-f650-4dfc-a723-31f4ca30a931",
   "metadata": {},
   "outputs": [
    {
     "data": {
      "text/plain": [
       "(<function __main__.<lambda>(x)>,\n",
       " [('Sachin Tendulkar', 34357),\n",
       "  ('Ricky Ponting', 27483),\n",
       "  ('Jack Kallis', 25534),\n",
       "  ('Virat Kohli', 24936)])"
      ]
     },
     "execution_count": 19,
     "metadata": {},
     "output_type": "execute_result"
    }
   ],
   "source": [
    "\n",
    "lambda x: l2.sort(x), l2"
   ]
  },
  {
   "cell_type": "markdown",
   "id": "5f0a854b-a419-420e-a79b-f307200b36cc",
   "metadata": {},
   "source": [
    "Answer 2"
   ]
  },
  {
   "cell_type": "markdown",
   "id": "5bb43f08-9057-48e4-a07b-109e810e47b5",
   "metadata": {},
   "source": [
    "find sq using lambda in given list"
   ]
  },
  {
   "cell_type": "code",
   "execution_count": 27,
   "id": "561e6877-2616-4385-ad86-823c822af3b9",
   "metadata": {},
   "outputs": [
    {
     "name": "stdout",
     "output_type": "stream",
     "text": [
      "[1, 4, 9, 16, 25, 36, 49, 64, 81, 100]\n"
     ]
    }
   ],
   "source": [
    "l = [1, 2, 3, 4, 5, 6, 7, 8, 9, 10]\n",
    "\n",
    "squared_numbers = map(lambda x: x**2, l)\n",
    "\n",
    "print(list(squared_numbers))"
   ]
  },
  {
   "cell_type": "markdown",
   "id": "7e1e68e7-3dad-497e-bd67-5e073534d6f1",
   "metadata": {},
   "source": [
    "Answer 5"
   ]
  },
  {
   "cell_type": "code",
   "execution_count": 46,
   "id": "7f21a898-51d7-48cc-b106-979e02a91e4d",
   "metadata": {},
   "outputs": [],
   "source": [
    "l4 = [2, 3, 6, 9, 27, 60, 90, 120, 55, 46]"
   ]
  },
  {
   "cell_type": "code",
   "execution_count": 51,
   "id": "a26a9479-1c01-44e3-91d6-bff5b46c2b39",
   "metadata": {},
   "outputs": [
    {
     "data": {
      "text/plain": [
       "[6, 60, 90, 120]"
      ]
     },
     "execution_count": 51,
     "metadata": {},
     "output_type": "execute_result"
    }
   ],
   "source": [
    "list(filter(lambda x:  x %2 == 0 and x%3 == 0 , l4))"
   ]
  },
  {
   "cell_type": "markdown",
   "id": "0add423a-403f-4c2c-ba21-547132b07b27",
   "metadata": {},
   "source": [
    "Answer 4"
   ]
  },
  {
   "cell_type": "code",
   "execution_count": 58,
   "id": "a56c5239-2978-48e7-8df9-b3087509fcdc",
   "metadata": {},
   "outputs": [
    {
     "data": {
      "text/plain": [
       "15511210043330985984000000"
      ]
     },
     "execution_count": 58,
     "metadata": {},
     "output_type": "execute_result"
    }
   ],
   "source": [
    "from functools import reduce\n",
    "l5 = range(1,26)\n",
    "reduce(lambda x,y: x*y, l5)"
   ]
  },
  {
   "cell_type": "markdown",
   "id": "8b5ad6a4-c346-4c5f-ab2d-37ba4ea85ad8",
   "metadata": {},
   "source": [
    "Answer 3"
   ]
  },
  {
   "cell_type": "code",
   "execution_count": 59,
   "id": "e0fcf5a5-745c-424e-be1c-222e00834fd5",
   "metadata": {},
   "outputs": [],
   "source": [
    "s =[1, 2, 3, 4, 5, 6, 7, 8, 9, 10]"
   ]
  },
  {
   "cell_type": "code",
   "execution_count": 72,
   "id": "20888f58-258a-4248-acaa-0d28470a33e6",
   "metadata": {},
   "outputs": [
    {
     "data": {
      "text/plain": [
       "('1', '2', '3', '4', '5', '6', '7', '8', '9', '10')"
      ]
     },
     "execution_count": 72,
     "metadata": {},
     "output_type": "execute_result"
    }
   ],
   "source": [
    "tuple(map(lambda x: str(x), s))"
   ]
  },
  {
   "cell_type": "markdown",
   "id": "861e9a61-18e6-406d-8871-06349d575cac",
   "metadata": {},
   "source": [
    "Answer 6"
   ]
  },
  {
   "cell_type": "code",
   "execution_count": 20,
   "id": "523bbc70-dac5-4973-8c04-74cc3896d02d",
   "metadata": {},
   "outputs": [],
   "source": [
    "palindrome_list = ['python', 'php', 'aba', 'radar', 'level']"
   ]
  },
  {
   "cell_type": "code",
   "execution_count": 21,
   "id": "e85804d3-8be0-431e-962d-b44972ed7f4b",
   "metadata": {},
   "outputs": [
    {
     "ename": "SyntaxError",
     "evalue": "invalid syntax (133281993.py, line 1)",
     "output_type": "error",
     "traceback": [
      "\u001b[0;36m  Cell \u001b[0;32mIn[21], line 1\u001b[0;36m\u001b[0m\n\u001b[0;31m    list(filter(lambda x: x == [::-1] ,palindrome_list))\u001b[0m\n\u001b[0m                                ^\u001b[0m\n\u001b[0;31mSyntaxError\u001b[0m\u001b[0;31m:\u001b[0m invalid syntax\n"
     ]
    }
   ],
   "source": [
    "list(filter(lambda x: x == \"\" join(reversed( ,palindrome_list))"
   ]
  },
  {
   "cell_type": "code",
   "execution_count": null,
   "id": "51a4c74c-5a2b-48eb-a1b6-88bbf91c7523",
   "metadata": {},
   "outputs": [],
   "source": []
  }
 ],
 "metadata": {
  "kernelspec": {
   "display_name": "Python 3 (ipykernel)",
   "language": "python",
   "name": "python3"
  },
  "language_info": {
   "codemirror_mode": {
    "name": "ipython",
    "version": 3
   },
   "file_extension": ".py",
   "mimetype": "text/x-python",
   "name": "python",
   "nbconvert_exporter": "python",
   "pygments_lexer": "ipython3",
   "version": "3.10.8"
  }
 },
 "nbformat": 4,
 "nbformat_minor": 5
}
